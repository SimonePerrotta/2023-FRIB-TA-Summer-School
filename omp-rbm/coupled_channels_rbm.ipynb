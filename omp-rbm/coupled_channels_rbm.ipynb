{
  "metadata": {
    "kernelspec": {
      "name": "python",
      "display_name": "Python (Pyodide)",
      "language": "python"
    },
    "language_info": {
      "codemirror_mode": {
        "name": "python",
        "version": 3
      },
      "file_extension": ".py",
      "mimetype": "text/x-python",
      "name": "python",
      "nbconvert_exporter": "python",
      "pygments_lexer": "ipython3",
      "version": "3.8"
    }
  },
  "nbformat_minor": 5,
  "nbformat": 4,
  "cells": [
    {
      "cell_type": "markdown",
      "source": "# RBM emulator for coupled channels scattering\n\nWe would like to construct an emulator for a toy problem for inelastic nucleon-nucleus scattering in which we explicitly include a few excited states of the target in our model space. We will use a simple model with two excited states, with Woods-Saxon form factors on the diagonal, and Gaussian off the diagonal.\n\n\\begin{equation}\n H_{int} = \n \\begin{bmatrix}\n   V(r) & \\beta g(r) & \\gamma g(r) \\\\\n  \\beta g(r) & V(r) & \\gamma g(r) \\\\\n  \\beta g(r) & \\gamma g(r) & V(r) \\\\\n \\end{bmatrix},\n\\end{equation}\n\nwhere \n\n\\begin{equation}\nV(r) = \\frac{V+iW}{1 + \\exp{ \\left( \\frac{r-R}{a} \\right) }},\n\\end{equation}\n\nand \n\n\\begin{equation}\ng(r) = \\exp{ \\left( \\frac{-r^2}{\\alpha^2} \\right) }.\n\\end{equation}\n\nIn this toy model, the real part of the Woods-Saxon in the $n$th diagonal represents the interaction of the projectile and target in the $n$th excited state, with $n=0$ being the ground state (and, therefore, the elastic channel). The imaginary component represents the transition from the $n$th channel to other excited states not explicitly included in the model space ($n$ > 2). The off-diagonal terms represent coupling between channels, with $\\beta$ controlling the strength of coupling of the ground state to each excited state, and $\\gamma$ between excited states.\n\nThe Schroedinger-like equation governing scattering in channel $n$ will look like [1, eq. (75)]:\n\n\n\\begin{equation}\n\\left( - \\frac{\\hbar^2}{2\\mu}\\nabla^2_{\\vec r} + V(\\vec r) - E_n \\right) \\psi_n(\\vec r) = - \\sum_{m \\neq n} g_{mn}(\\vec r) \\psi_m(\\vec r),\n\\end{equation}\n\nwhere $E_n$ is the asymptotic kinetic energy in channel $n$ (total energy minus the energy of internal state $n$ of the system), and\n\n\n\\begin{equation}\ng_{mn}(r) = \\begin{cases} \n    \\gamma g(r) & m,n = 0 \\\\\n    \\beta g(r) & \\text{else}\n\\end{cases}\n\\end{equation}\n\nIn the case that $\\gamma = 0$, this is equivalent to the distorted-wave Born approximation for the excited channels. If we turn on coupling between states with $\\gamma \\neq 0$, then this is a full coupled-channels calculation.\n\n\nIf the potentials are central and do not couple the particles spins, the projectile-target relative orbital angular momentum, $l$, is conserved and each wave-function can be expanded in partial waves as in ref. [1, eq. (36)]. It is then sufficient to solve independently the problem for each fixed value of $l$, reducing eq.(4) to\n\n\n\\begin{equation}\n\\left( - \\frac{\\hbar^2}{2\\mu}\\frac{d^2}{dr^2} + \\frac{\\hbar^2}{2\\mu} \\frac{\\ell(\\ell+1)}{r^2} + V(r) - E_n \\right) \\psi_{n,l}(r) = - \\sum_{m \\neq n} g_{mn}(r) \\psi_{m,l}(r),\n\\end{equation}\n\n\n[1]: Moro A. M., Models for nuclear reactions with weakly bound systems, https://arxiv.org/abs/1807.04349.",
      "metadata": {},
      "id": "b651d1c7"
    },
    {
      "cell_type": "code",
      "source": "",
      "metadata": {},
      "execution_count": null,
      "outputs": [],
      "id": "307da902"
    },
    {
      "cell_type": "code",
      "source": "",
      "metadata": {},
      "execution_count": null,
      "outputs": [],
      "id": "ca42dd0d"
    }
  ]
}
