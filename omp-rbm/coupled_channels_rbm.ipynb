{
 "cells": [
  {
   "cell_type": "markdown",
   "id": "83a9f763",
   "metadata": {},
   "source": [
    "# RBM emulator for coupled channels scattering\n",
    "\n",
    "We would like to construct an emulator for a toy problem for nucleon-nucleus scattering in which we explicitly include a few excited states of the target in our model space."
   ]
  },
  {
   "cell_type": "code",
   "execution_count": null,
   "id": "ded945ac",
   "metadata": {},
   "outputs": [],
   "source": []
  }
 ],
 "metadata": {
  "kernelspec": {
   "display_name": "Python 3 (ipykernel)",
   "language": "python",
   "name": "python3"
  },
  "language_info": {
   "codemirror_mode": {
    "name": "ipython",
    "version": 3
   },
   "file_extension": ".py",
   "mimetype": "text/x-python",
   "name": "python",
   "nbconvert_exporter": "python",
   "pygments_lexer": "ipython3",
   "version": "3.10.8"
  }
 },
 "nbformat": 4,
 "nbformat_minor": 5
}
