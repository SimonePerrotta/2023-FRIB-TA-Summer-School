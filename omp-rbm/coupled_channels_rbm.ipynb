{
 "cells": [
  {
   "cell_type": "markdown",
   "id": "b651d1c7",
   "metadata": {},
   "source": [
    "# RBM emulator for coupled channels scattering\n",
    "\n",
    "We would like to construct an emulator for a toy problem for inelastic nucleon-nucleus scattering in which we explicitly include a few excited states of the target in our model space. We will use a simple model with two excited states, with Woods-Saxon form factors on the diagonal, and Gaussian off the diagonal.\n",
    "\n",
    "\\begin{equation}\n",
    " H_{int} = \n",
    " \\begin{bmatrix}\n",
    "   V(r) & \\beta g(r) & \\gamma g(r) \\\\\n",
    "  \\beta g(r) & V(r) & \\gamma g(r) \\\\\n",
    "  \\beta g(r) & \\gamma g(r) & V(r) \\\\\n",
    " \\end{bmatrix},\n",
    "\\end{equation}\n",
    "\n",
    "where \n",
    "\n",
    "\\begin{equation}\n",
    "V(r) = \\frac{V+iW}{1 + \\exp{ \\left( \\frac{r-R}{a} \\right) }},\n",
    "\\end{equation}\n",
    "\n",
    "and \n",
    "\n",
    "\\begin{equation}\n",
    "g(r) = \\exp{ \\left( \\frac{-r^2}{\\alpha^2} \\right) }.\n",
    "\\end{equation}\n",
    "\n",
    "In this toy model, the real part of the Woods-Saxon in the $n$th diagonal represents the interaction of the projectile and target in the $n$th excited state, with $n=0$ being the ground state (and, therefore, the elastic channel). The imaginary component represents the transition from the $n$th channel to other excited states not explicitly included in the model space ($n$ > 2). The off-diagonal terms represent coupling between channels, with $\\beta$ controlling the strength of coupling of the ground state to each excited state, and $\\gamma$ between excited states.\n",
    "\n",
    "The Schroedinger-like equation governing scattering in channel $n$ will look like\n",
    "\n",
    "\n",
    "\\begin{equation}\n",
    "\\left( \\frac{\\hbar^2}{2\\mu}\\frac{d^2}{dr^2} + \\frac{\\ell(\\ell+1)}{r^2} + V(r) - E_n \\right) \\psi_n(r) = \\sum_{m \\neq n} g_{mn}(r),\n",
    "\\end{equation}\n",
    "\n",
    "where \n",
    "\n",
    "\n",
    "\\begin{equation}\n",
    "g_{mn}(r) = \\begin{cases} \n",
    "    \\gamma g(r) & m,n = 0 \\\\\n",
    "    \\beta g(r) & \\text{else}\n",
    "\\end{cases}\n",
    "\\end{equation}\n",
    "\n",
    "In the case that $\\gamma = 0$, this is equivalent to the distorted-wave Born approximation for the excited channels. If we turn on coupling between states with $\\gamma \\neq 0$, then this is a full coupled-channels calculation.\n",
    "\n"
   ]
  },
  {
   "cell_type": "code",
   "execution_count": null,
   "id": "307da902",
   "metadata": {},
   "outputs": [],
   "source": []
  },
  {
   "cell_type": "code",
   "execution_count": null,
   "id": "ca42dd0d",
   "metadata": {},
   "outputs": [],
   "source": []
  }
 ],
 "metadata": {
  "kernelspec": {
   "display_name": "Python 3 (ipykernel)",
   "language": "python",
   "name": "python3"
  },
  "language_info": {
   "codemirror_mode": {
    "name": "ipython",
    "version": 3
   },
   "file_extension": ".py",
   "mimetype": "text/x-python",
   "name": "python",
   "nbconvert_exporter": "python",
   "pygments_lexer": "ipython3",
   "version": "3.10.8"
  }
 },
 "nbformat": 4,
 "nbformat_minor": 5
}
